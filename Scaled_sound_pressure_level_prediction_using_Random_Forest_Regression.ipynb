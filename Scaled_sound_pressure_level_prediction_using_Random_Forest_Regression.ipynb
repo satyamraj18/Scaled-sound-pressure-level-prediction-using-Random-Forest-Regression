{
  "nbformat": 4,
  "nbformat_minor": 0,
  "metadata": {
    "colab": {
      "name": "Scaled sound pressure level prediction using Random Forest Regression",
      "provenance": [],
      "collapsed_sections": [],
      "toc_visible": true,
      "authorship_tag": "ABX9TyMA+iFO+GrpqngnrrfLtOSa",
      "include_colab_link": true
    },
    "kernelspec": {
      "name": "python3",
      "display_name": "Python 3"
    }
  },
  "cells": [
    {
      "cell_type": "markdown",
      "metadata": {
        "id": "view-in-github",
        "colab_type": "text"
      },
      "source": [
        "<a href=\"https://colab.research.google.com/github/satyamraj18/Scaled-sound-pressure-level-prediction-using-Random-Forest-Regression/blob/main/Scaled_sound_pressure_level_prediction_using_Random_Forest_Regression.ipynb\" target=\"_parent\"><img src=\"https://colab.research.google.com/assets/colab-badge.svg\" alt=\"Open In Colab\"/></a>"
      ]
    },
    {
      "cell_type": "markdown",
      "metadata": {
        "id": "0yU-c4JIVZRh"
      },
      "source": [
        "## Importing Packages"
      ]
    },
    {
      "cell_type": "code",
      "metadata": {
        "id": "k8_jKlJXVJjP"
      },
      "source": [
        "import pandas as pd\n",
        "import matplotlib.pyplot as plt\n",
        "import numpy as np\n",
        "\n",
        "### Dataset Description \n",
        "#URL \"https://archive.ics.uci.edu/ml/datasets/Airfoil+Self-Noise#\"\n",
        "#The NASA data set comprises different size NACA 0012 airfoils at various wind tunnel speeds and angles of attack. \n",
        "#The span of the airfoil and the observer position were the same in all of the experiments.\n",
        "### Attribute Information \n",
        "#This problem has the following inputs:\n",
        "#1. Frequency, in Hertzs.\n",
        "#2. Angle of attack, in degrees.\n",
        "#3. Chord length, in meters.\n",
        "#4. Free-stream velocity, in meters per second.\n",
        "#5. Suction side displacement thickness, in meters.\n",
        "#The only output is:\n",
        "#6. Scaled sound pressure level, in decibels."
      ],
      "execution_count": null,
      "outputs": []
    },
    {
      "cell_type": "markdown",
      "metadata": {
        "id": "SrBm80kVXGbN"
      },
      "source": [
        "## Importing Datasets"
      ]
    },
    {
      "cell_type": "code",
      "metadata": {
        "id": "iPHoVtm1XL4A"
      },
      "source": [
        "dataset = pd.read_csv(\"NasaData.csv\")\n",
        "X = dataset.iloc[:, :-1].values\n",
        "y = dataset.iloc[:, -1].values"
      ],
      "execution_count": null,
      "outputs": []
    },
    {
      "cell_type": "markdown",
      "metadata": {
        "id": "cfxVDLnPZzkY"
      },
      "source": [
        "## Handling Missing Data"
      ]
    },
    {
      "cell_type": "code",
      "metadata": {
        "id": "UxXHP5-RZ7GB"
      },
      "source": [
        "from sklearn.impute import SimpleImputer\n",
        "imputer = SimpleImputer(missing_values=6.5,strategy=\"mean\")\n",
        "imputer.fit(X)\n",
        "X = imputer.transform(X)"
      ],
      "execution_count": null,
      "outputs": []
    },
    {
      "cell_type": "markdown",
      "metadata": {
        "id": "iW-XxKXCbSOq"
      },
      "source": [
        "## Splitting the Dataset"
      ]
    },
    {
      "cell_type": "code",
      "metadata": {
        "id": "puWGogMIbfrH"
      },
      "source": [
        "from sklearn.model_selection import train_test_split \n",
        "X_train,X_test,y_train,y_test = train_test_split(X,y,test_size=0.2,random_state=1)"
      ],
      "execution_count": null,
      "outputs": []
    },
    {
      "cell_type": "markdown",
      "metadata": {
        "id": "743gpi0jb9KF"
      },
      "source": [
        "## Training the Model"
      ]
    },
    {
      "cell_type": "code",
      "metadata": {
        "id": "RKTi3DO_cD-9",
        "colab": {
          "base_uri": "https://localhost:8080/",
          "height": 136
        },
        "outputId": "31896754-32e6-4bbc-e5fd-a1db30278e81"
      },
      "source": [
        "from sklearn.ensemble import RandomForestRegressor\n",
        "regressor = RandomForestRegressor(n_estimators=100,random_state=1)\n",
        "regressor.fit(X_train,y_train)"
      ],
      "execution_count": null,
      "outputs": [
        {
          "output_type": "execute_result",
          "data": {
            "text/plain": [
              "RandomForestRegressor(bootstrap=True, ccp_alpha=0.0, criterion='mse',\n",
              "                      max_depth=None, max_features='auto', max_leaf_nodes=None,\n",
              "                      max_samples=None, min_impurity_decrease=0.0,\n",
              "                      min_impurity_split=None, min_samples_leaf=1,\n",
              "                      min_samples_split=2, min_weight_fraction_leaf=0.0,\n",
              "                      n_estimators=100, n_jobs=None, oob_score=False,\n",
              "                      random_state=1, verbose=0, warm_start=False)"
            ]
          },
          "metadata": {
            "tags": []
          },
          "execution_count": 8
        }
      ]
    },
    {
      "cell_type": "markdown",
      "metadata": {
        "id": "SeLPaSJMczZd"
      },
      "source": [
        "## Comparing Predicted and the Test Set Results"
      ]
    },
    {
      "cell_type": "code",
      "metadata": {
        "id": "gd5i5M5mcvA_",
        "colab": {
          "base_uri": "https://localhost:8080/",
          "height": 1000
        },
        "outputId": "fd8d1d09-4724-45f6-9efc-bb635cba71e9"
      },
      "source": [
        "y_pred = regressor.predict(X_test)\n",
        "np.set_printoptions(precision=2)\n",
        "print(np.concatenate((y_pred.reshape(len(y_pred),1),y_test.reshape(len(y_test),1)),1))"
      ],
      "execution_count": null,
      "outputs": [
        {
          "output_type": "stream",
          "text": [
            "[[119.08 117.74]\n",
            " [117.33 118.12]\n",
            " [125.89 120.66]\n",
            " [124.03 122.23]\n",
            " [131.92 129.34]\n",
            " [128.82 126.59]\n",
            " [132.99 133.44]\n",
            " [129.86 131.58]\n",
            " [114.31 111.91]\n",
            " [129.37 129.97]\n",
            " [122.05 118.62]\n",
            " [126.53 126.34]\n",
            " [124.7  123.92]\n",
            " [128.69 129.  ]\n",
            " [110.05 108.69]\n",
            " [122.59 125.4 ]\n",
            " [117.51 117.78]\n",
            " [124.72 123.25]\n",
            " [132.71 132.3 ]\n",
            " [125.11 125.72]\n",
            " [133.88 135.54]\n",
            " [120.66 119.56]\n",
            " [113.93 110.45]\n",
            " [126.07 123.74]\n",
            " [127.61 127.63]\n",
            " [122.42 124.76]\n",
            " [130.72 131.72]\n",
            " [125.51 123.69]\n",
            " [128.6  129.98]\n",
            " [129.35 128.52]\n",
            " [125.47 126.54]\n",
            " [125.46 125.8 ]\n",
            " [128.26 128.25]\n",
            " [130.91 130.96]\n",
            " [125.95 126.67]\n",
            " [131.49 131.24]\n",
            " [124.84 126.54]\n",
            " [126.07 125.5 ]\n",
            " [128.66 129.09]\n",
            " [133.58 133.38]\n",
            " [125.9  124.53]\n",
            " [127.41 128.71]\n",
            " [128.39 128.81]\n",
            " [125.7  123.76]\n",
            " [129.68 130.  ]\n",
            " [125.68 121.66]\n",
            " [124.54 124.45]\n",
            " [128.08 128.2 ]\n",
            " [119.44 120.04]\n",
            " [123.73 124.3 ]\n",
            " [123.02 121.77]\n",
            " [132.44 133.04]\n",
            " [131.23 131.45]\n",
            " [122.28 119.51]\n",
            " [135.41 135.87]\n",
            " [114.73 114.04]\n",
            " [128.07 129.38]\n",
            " [122.58 121.55]\n",
            " [113.2  111.53]\n",
            " [134.74 128.71]\n",
            " [123.13 120.77]\n",
            " [112.47 113.11]\n",
            " [131.56 132.76]\n",
            " [119.79 120.55]\n",
            " [131.05 132.09]\n",
            " [128.63 129.47]\n",
            " [121.17 122.23]\n",
            " [119.97 121.12]\n",
            " [129.74 129.26]\n",
            " [122.07 121.89]\n",
            " [126.93 127.41]\n",
            " [110.87 110.69]\n",
            " [126.08 124.69]\n",
            " [131.89 133.24]\n",
            " [132.57 131.84]\n",
            " [128.36 127.2 ]\n",
            " [112.48 112.01]\n",
            " [114.57 114.04]\n",
            " [114.3  114.08]\n",
            " [134.34 135.33]\n",
            " [130.65 130.69]\n",
            " [124.54 125.35]\n",
            " [121.49 121.94]\n",
            " [127.   126.07]\n",
            " [127.12 125.81]\n",
            " [124.09 123.08]\n",
            " [126.53 129.03]\n",
            " [122.14 121.78]\n",
            " [126.17 126.46]\n",
            " [137.98 138.76]\n",
            " [130.24 130.19]\n",
            " [132.63 134.32]\n",
            " [119.93 117.19]\n",
            " [126.37 126.81]\n",
            " [112.78 110.22]\n",
            " [129.75 131.81]\n",
            " [134.19 135.46]\n",
            " [127.37 128.99]\n",
            " [117.1  118.44]\n",
            " [126.71 128.41]\n",
            " [131.22 130.94]\n",
            " [131.98 133.77]\n",
            " [130.31 130.22]\n",
            " [134.42 134.11]\n",
            " [122.59 121.85]\n",
            " [128.23 127.39]\n",
            " [126.99 126.35]\n",
            " [121.05 120.26]\n",
            " [121.31 120.5 ]\n",
            " [133.55 131.57]\n",
            " [123.32 124.44]\n",
            " [125.6  127.47]\n",
            " [125.89 129.86]\n",
            " [133.83 130.12]\n",
            " [120.4  119.14]\n",
            " [122.68 121.62]\n",
            " [123.87 123.07]\n",
            " [129.2  127.01]\n",
            " [126.76 126.83]\n",
            " [123.99 120.06]\n",
            " [121.93 120.78]\n",
            " [132.8  133.55]\n",
            " [124.65 125.72]\n",
            " [129.25 136.89]\n",
            " [123.95 123.74]\n",
            " [131.55 132.4 ]\n",
            " [114.58 112.04]\n",
            " [124.55 124.83]\n",
            " [126.01 126.99]\n",
            " [126.61 127.86]\n",
            " [125.91 123.88]\n",
            " [121.6  119.54]\n",
            " [118.13 118.83]\n",
            " [123.62 123.46]\n",
            " [126.75 127.59]\n",
            " [128.98 129.93]\n",
            " [127.3  126.19]\n",
            " [132.41 130.75]\n",
            " [118.24 116.41]\n",
            " [127.51 124.16]\n",
            " [132.15 132.59]\n",
            " [121.82 119.65]\n",
            " [122.61 123.31]\n",
            " [120.22 118.59]\n",
            " [129.27 128.24]\n",
            " [118.61 117.5 ]\n",
            " [131.82 133.81]\n",
            " [125.43 125.52]\n",
            " [116.71 115.46]\n",
            " [118.22 120.79]\n",
            " [116.02 114.9 ]\n",
            " [111.43 111.14]\n",
            " [125.81 125.31]\n",
            " [121.55 122.53]\n",
            " [123.24 120.56]\n",
            " [131.78 129.65]\n",
            " [134.43 134.56]\n",
            " [122.76 121.59]\n",
            " [124.07 123.7 ]\n",
            " [134.15 134.5 ]\n",
            " [122.15 119.97]\n",
            " [124.14 125.05]\n",
            " [116.59 116.92]\n",
            " [129.3  130.56]\n",
            " [134.41 134.31]\n",
            " [119.33 118.13]\n",
            " [124.33 121.64]\n",
            " [127.56 129.97]\n",
            " [125.99 125.01]\n",
            " [123.83 121.58]\n",
            " [120.19 119.32]\n",
            " [123.65 124.21]\n",
            " [129.9  129.14]\n",
            " [121.92 122.61]\n",
            " [134.34 134.53]\n",
            " [114.86 116.66]\n",
            " [129.52 131.54]\n",
            " [117.41 111.82]\n",
            " [123.69 122.29]\n",
            " [128.78 129.06]\n",
            " [129.26 130.17]\n",
            " [121.36 120.48]\n",
            " [132.92 131.31]\n",
            " [122.5  122.1 ]\n",
            " [119.8  121.5 ]\n",
            " [129.29 130.05]\n",
            " [126.27 125.62]\n",
            " [132.69 132.77]\n",
            " [128.47 130.64]\n",
            " [118.76 117.48]\n",
            " [130.54 124.32]\n",
            " [125.99 125.16]\n",
            " [118.24 119.34]\n",
            " [130.9  131.18]\n",
            " [117.01 115.66]\n",
            " [125.48 125.72]\n",
            " [132.11 132.35]\n",
            " [131.33 132.13]\n",
            " [127.95 129.57]\n",
            " [130.21 131.01]\n",
            " [128.36 128.95]\n",
            " [117.47 118.71]\n",
            " [130.44 131.23]\n",
            " [131.93 131.43]\n",
            " [131.04 132.15]\n",
            " [117.   119.21]\n",
            " [127.07 126.41]\n",
            " [112.71 112.25]\n",
            " [128.82 130.11]\n",
            " [125.31 122.91]\n",
            " [113.41 113.33]\n",
            " [123.94 123.89]\n",
            " [118.49 119.15]\n",
            " [126.41 130.61]\n",
            " [125.86 124.69]\n",
            " [132.33 132.51]\n",
            " [118.83 117.6 ]\n",
            " [111.23 108.27]\n",
            " [127.18 126.27]\n",
            " [114.21 112.7 ]\n",
            " [121.39 120.58]\n",
            " [132.4  133.26]\n",
            " [127.56 127.31]\n",
            " [124.48 124.1 ]\n",
            " [126.65 129.3 ]\n",
            " [107.47 107.28]\n",
            " [125.49 125.54]\n",
            " [125.96 124.36]\n",
            " [123.89 123.12]\n",
            " [132.49 133.31]\n",
            " [125.66 122.22]\n",
            " [130.51 131.06]\n",
            " [133.75 135.92]\n",
            " [121.99 119.88]\n",
            " [119.37 119.64]\n",
            " [125.45 127.85]\n",
            " [128.36 128.82]\n",
            " [123.17 123.74]\n",
            " [116.06 117.62]\n",
            " [128.58 128.4 ]\n",
            " [127.68 126.76]\n",
            " [126.93 126.16]\n",
            " [113.24 110.36]\n",
            " [119.19 120.14]\n",
            " [128.85 130.72]\n",
            " [121.53 122.17]\n",
            " [128.2  128.24]\n",
            " [129.99 131.45]\n",
            " [129.99 129.68]\n",
            " [123.75 124.36]\n",
            " [129.28 129.95]\n",
            " [130.26 131.26]\n",
            " [126.88 126.75]\n",
            " [129.74 130.03]\n",
            " [127.77 130.67]\n",
            " [128.89 124.16]\n",
            " [112.93 110.89]\n",
            " [131.19 130.2 ]\n",
            " [119.07 118.29]\n",
            " [128.71 128.4 ]\n",
            " [119.95 119.29]\n",
            " [130.54 127.81]\n",
            " [123.94 122.21]\n",
            " [112.47 110.78]\n",
            " [118.13 117.13]\n",
            " [111.31 112.77]\n",
            " [115.05 112.67]\n",
            " [125.3  122.97]\n",
            " [127.66 126.3 ]\n",
            " [108.53 107.15]\n",
            " [128.34 127.73]\n",
            " [121.99 122.44]\n",
            " [124.48 124.25]\n",
            " [126.69 125.73]\n",
            " [134.72 135.48]\n",
            " [134.8  135.43]\n",
            " [116.24 115.86]\n",
            " [126.11 126.78]\n",
            " [127.14 126.85]\n",
            " [129.96 130.05]\n",
            " [126.07 125.8 ]\n",
            " [121.07 118.9 ]\n",
            " [132.66 133.25]\n",
            " [124.   124.  ]\n",
            " [123.74 121.79]\n",
            " [128.66 128.34]\n",
            " [125.26 124.72]\n",
            " [130.98 132.83]\n",
            " [118.96 117.39]\n",
            " [107.98 108.03]\n",
            " [120.97 121.53]\n",
            " [115.26 114.71]\n",
            " [123.03 121.22]\n",
            " [131.08 131.71]\n",
            " [128.56 127.12]\n",
            " [125.06 124.99]\n",
            " [122.82 122.61]\n",
            " [123.85 123.54]\n",
            " [112.12 112.24]\n",
            " [134.92 136.28]\n",
            " [121.61 121.76]]\n"
          ],
          "name": "stdout"
        }
      ]
    },
    {
      "cell_type": "markdown",
      "metadata": {
        "id": "uhvmcR42dsRY"
      },
      "source": [
        "## R2 score"
      ]
    },
    {
      "cell_type": "code",
      "metadata": {
        "id": "V4TaveUPdud8",
        "colab": {
          "base_uri": "https://localhost:8080/",
          "height": 34
        },
        "outputId": "ed51744d-4716-423d-b0cb-fc4ddaa67c21"
      },
      "source": [
        "from sklearn.metrics import r2_score\n",
        "r2_score(y_test,y_pred)"
      ],
      "execution_count": null,
      "outputs": [
        {
          "output_type": "execute_result",
          "data": {
            "text/plain": [
              "0.9373476372366614"
            ]
          },
          "metadata": {
            "tags": []
          },
          "execution_count": 10
        }
      ]
    }
  ]
}